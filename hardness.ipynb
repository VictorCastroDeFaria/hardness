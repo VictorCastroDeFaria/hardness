{
 "cells": [
  {
   "cell_type": "code",
   "execution_count": 1,
   "id": "05741315-f804-4e5b-8da4-321172b53ef2",
   "metadata": {},
   "outputs": [
    {
     "data": {
      "text/plain": [
       "'1.23.1'"
      ]
     },
     "execution_count": 1,
     "metadata": {},
     "output_type": "execute_result"
    }
   ],
   "source": [
    "import numpy as np\n",
    "np.version.version"
   ]
  },
  {
   "cell_type": "code",
   "execution_count": 2,
   "id": "9d3c500d-2b99-4e01-8dc3-d2388b8c78b5",
   "metadata": {},
   "outputs": [
    {
     "data": {
      "text/plain": [
       "'2.0.3'"
      ]
     },
     "execution_count": 2,
     "metadata": {},
     "output_type": "execute_result"
    }
   ],
   "source": [
    "import pandas as pd\n",
    "pd.__version__"
   ]
  },
  {
   "cell_type": "code",
   "execution_count": 3,
   "id": "b3d4eb59-c8a5-4eb0-9615-a9f8af990c0d",
   "metadata": {},
   "outputs": [
    {
     "data": {
      "text/plain": [
       "'1.0.2'"
      ]
     },
     "execution_count": 3,
     "metadata": {},
     "output_type": "execute_result"
    }
   ],
   "source": [
    "import sklearn\n",
    "sklearn.__version__"
   ]
  },
  {
   "cell_type": "code",
   "execution_count": 4,
   "id": "5e37eab8-7680-411b-a33f-82f59c28b8dc",
   "metadata": {},
   "outputs": [],
   "source": [
    "file_names = [\"mfeat-fac\", \"mfeat-fou\", \"mfeat-kar\", \"mfeat-mor\", \"mfeat-pix\", \"mfeat-zer\"]\n",
    "dataset_names = [x.replace(\"-\",\"_\") for x in file_names]\n",
    "\n",
    "mfeat_fac = pd.read_csv(\"mfeat-fac.csv\",delim_whitespace=True,header=None)\n",
    "mfeat_fou = pd.read_csv(\"mfeat-fou.csv\",delim_whitespace=True,header=None)\n",
    "mfeat_kar = pd.read_csv(\"mfeat-kar.csv\",delim_whitespace=True,header=None)\n",
    "mfeat_mor = pd.read_csv(\"mfeat-mor.csv\",delim_whitespace=True,header=None)\n",
    "mfeat_pix = pd.read_csv(\"mfeat-pix.csv\",delim_whitespace=True,header=None)\n",
    "mfeat_zer = pd.read_csv(\"mfeat-zer.csv\",delim_whitespace=True,header=None)"
   ]
  },
  {
   "cell_type": "code",
   "execution_count": 8,
   "id": "29a84f22-57a7-4473-af31-e2bb83d1935f",
   "metadata": {},
   "outputs": [],
   "source": [
    "import pyhard"
   ]
  },
  {
   "cell_type": "code",
   "execution_count": null,
   "id": "beeb3854-c2b7-4138-afe6-50660a40913c",
   "metadata": {},
   "outputs": [],
   "source": []
  },
  {
   "cell_type": "code",
   "execution_count": null,
   "id": "50e928b6-c4cc-4985-9f6e-5677f782bd54",
   "metadata": {},
   "outputs": [],
   "source": []
  },
  {
   "cell_type": "code",
   "execution_count": null,
   "id": "3b3bb6bc-0d19-4414-8055-9287c8809cfb",
   "metadata": {},
   "outputs": [],
   "source": []
  },
  {
   "cell_type": "code",
   "execution_count": null,
   "id": "9f550061-05dc-42b8-90f3-ac25b536eed4",
   "metadata": {},
   "outputs": [],
   "source": []
  }
 ],
 "metadata": {
  "kernelspec": {
   "display_name": "Python 3 (ipykernel)",
   "language": "python",
   "name": "python3"
  },
  "language_info": {
   "codemirror_mode": {
    "name": "ipython",
    "version": 3
   },
   "file_extension": ".py",
   "mimetype": "text/x-python",
   "name": "python",
   "nbconvert_exporter": "python",
   "pygments_lexer": "ipython3",
   "version": "3.8.19"
  }
 },
 "nbformat": 4,
 "nbformat_minor": 5
}
